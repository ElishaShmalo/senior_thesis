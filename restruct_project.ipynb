{
 "cells": [
  {
   "cell_type": "code",
   "execution_count": 2,
   "id": "0395398c",
   "metadata": {},
   "outputs": [],
   "source": [
    "import os\n",
    "\n",
    "def get_nearest(N,L):\n",
    "    return int(round(L/N) * N)\n",
    "\n",
    "def add_after_a_tree(N_val, path):\n",
    "    initial_conds = [1, 10, 50, 100, 200, 500, \"SeveralICs\"]\n",
    "    L_vals = [64, 128, 256]\n",
    "    for initial_cond in initial_conds:\n",
    "        try:\n",
    "            if type(initial_cond) == int:\n",
    "                os.mkdir(f\"{path}/IC{initial_cond}\")\n",
    "            else:\n",
    "                os.mkdir(f\"{path}/{initial_cond}\")\n",
    "        except Exception as e:\n",
    "            print(e)\n",
    "        for L_val in L_vals:\n",
    "            try:\n",
    "                L = L_val\n",
    "                if N_val != \"everalNs\":\n",
    "                    L = get_nearest(int(N_val[1:]), L_val)\n",
    "                os.mkdir(f\"{path}/IC{initial_cond}/L{L}\")\n",
    "            except Exception as e:\n",
    "                print(e)\n"
   ]
  },
  {
   "cell_type": "code",
   "execution_count": 7,
   "id": "b2ddfa3a",
   "metadata": {},
   "outputs": [],
   "source": [
    "import shutil\n",
    "\n",
    "parent_folder = \"data\"\n",
    "for data_type in os.listdir(parent_folder):\n",
    "    if data_type == \".DS_Store\":\n",
    "        continue\n",
    "    for N_folder in os.listdir(parent_folder + f\"/{data_type}\"):\n",
    "        if N_folder == \".DS_Store\":\n",
    "            continue\n",
    "        try:\n",
    "            os.mkdir(parent_folder + f\"/{data_type}/{N_folder}/SeveralAs\")\n",
    "        except:\n",
    "            pass\n",
    "        # for a_folder in os.listdir(parent_folder + f\"/{data_type}/{N_folder}\"):\n",
    "        #     if a_folder == \".DS_Store\":\n",
    "        #         continue\n",
    "\n",
    "        #     add_after_a_tree(N_folder, parent_folder + f\"/{data_type}/{N_folder}/{a_folder}\")"
   ]
  }
 ],
 "metadata": {
  "kernelspec": {
   "display_name": "base",
   "language": "python",
   "name": "python3"
  },
  "language_info": {
   "codemirror_mode": {
    "name": "ipython",
    "version": 3
   },
   "file_extension": ".py",
   "mimetype": "text/x-python",
   "name": "python",
   "nbconvert_exporter": "python",
   "pygments_lexer": "ipython3",
   "version": "3.12.10"
  }
 },
 "nbformat": 4,
 "nbformat_minor": 5
}
