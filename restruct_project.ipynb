{
 "cells": [
  {
   "cell_type": "code",
   "execution_count": 6,
   "id": "2b793741",
   "metadata": {},
   "outputs": [
    {
     "name": "stdout",
     "output_type": "stream",
     "text": [
      "[0.8, 0.82, 0.84, 0.86, 0.88, 0.9]\n"
     ]
    }
   ],
   "source": [
    "# Lets fix a problem with names\n",
    "\n",
    "num_unit_cells_vals = [128]\n",
    "# num_unit_cells_vals = [8]\n",
    "\n",
    "# --- Trying to Replecate Results ---\n",
    "num_initial_conds = 1000 # We are avraging over x initial conditions\n",
    "trans_a_vals = [0.72, 0.73, 0.74, 0.75, 0.7525, 0.755, 0.7575, 0.76, 0.7625, 0.765, 0.7675, 0.77, 0.78, 0.79, 0.8]\n",
    "# a_vals = sort(union([round(0.6 + i*0.01, digits=2) for i in 0:25], [0.7525, 0.755, 0.7575, 0.7625, 0.765, 0.7675])) # general a_vals\n",
    "# a_vals = sorted(set(sorted([round(0.6 + i*0.01, ndigits=2) for i in range(0, 31)] + trans_a_vals + [0.763]))) # 0.6, 0.62, 0.64, 0.66, 0.68, 0.7,\n",
    "a_vals = sorted([round(0.8 + i*0.02, ndigits=2) for i in range(0, 6)])\n",
    "# a_vals = [0.75, 0.7525, 0.755, 0.7575, 0.76, 0.7625, 0.765, 0.7675, 0.77] # trans a_vals\n",
    "\n",
    "print(a_vals)\n",
    "epsilon = 0.1\n",
    "\n",
    "N_val = 4\n",
    "\n",
    "z_val = 2.0\n",
    "z_val_name = f\"{z_val}\".replace(\".\", \"p\")"
   ]
  },
  {
   "cell_type": "code",
   "execution_count": 7,
   "id": "c7d638a7",
   "metadata": {},
   "outputs": [],
   "source": [
    "import os\n",
    "\n",
    "for num_unit_cells in num_unit_cells_vals:\n",
    "    L = num_unit_cells * N_val\n",
    "    \n",
    "    for a_val in a_vals:\n",
    "        a_val_name = f\"{a_val}\".replace(\".\", \"p\")\n",
    "        \n",
    "\n",
    "        sample_filepath = f\"data/spin_dists_per_time/N{N_val}/a{a_val_name}/IC1/L{L}/\"\n",
    "        for sample_file_name in os.listdir(sample_filepath):\n",
    "            new_sample_file_name = \"\"\n",
    "            \n",
    "            if \".csv\" not in sample_file_name:\n",
    "                new_sample_file_name = sample_file_name + \".csv\"\n",
    "            else:\n",
    "                new_sample_file_name = sample_file_name\n",
    "            os.rename(sample_filepath+sample_file_name, sample_filepath+new_sample_file_name)"
   ]
  }
 ],
 "metadata": {
  "kernelspec": {
   "display_name": "base",
   "language": "python",
   "name": "python3"
  },
  "language_info": {
   "codemirror_mode": {
    "name": "ipython",
    "version": 3
   },
   "file_extension": ".py",
   "mimetype": "text/x-python",
   "name": "python",
   "nbconvert_exporter": "python",
   "pygments_lexer": "ipython3",
   "version": "3.12.10"
  }
 },
 "nbformat": 4,
 "nbformat_minor": 5
}
