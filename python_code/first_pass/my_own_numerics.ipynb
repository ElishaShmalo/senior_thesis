{
 "cells": [
  {
   "cell_type": "markdown",
   "metadata": {},
   "source": [
    "# In this file I attempt to build the basic framework for doing numerics on the Hyzenberg Spin Chain (without refrence to my professors work)\n",
    "- Im doing feromagnet bc its cooler"
   ]
  },
  {
   "cell_type": "markdown",
   "metadata": {},
   "source": [
    "# Imports"
   ]
  },
  {
   "cell_type": "code",
   "execution_count": 30,
   "metadata": {},
   "outputs": [],
   "source": [
    "import numpy as np"
   ]
  },
  {
   "cell_type": "markdown",
   "metadata": {},
   "source": [
    "# General variables"
   ]
  },
  {
   "cell_type": "code",
   "execution_count": 31,
   "metadata": {},
   "outputs": [],
   "source": [
    "L = 120 # number of spins \n",
    "#(note: if you are going to be working with a spiral with periodic boundy condtions, make sure L is st the spiral is maintained through the Lth --> 0th spin)\n",
    "\n",
    "J = 1 # energy factor\n",
    "\n",
    "J_vec = J * np.array([np.random.choice([-1, 1]), np.random.choice([-1, 1]), 1])"
   ]
  },
  {
   "cell_type": "markdown",
   "metadata": {},
   "source": [
    "# Defining the initial state"
   ]
  },
  {
   "cell_type": "code",
   "execution_count": 32,
   "metadata": {},
   "outputs": [],
   "source": [
    "# Making a state wherein the initial spins are all in random directions\n",
    "def make_random_state(n=L):\n",
    "    state = [] # states are numpy arrays of 3D vecotors (numpy arrays)\n",
    "    for i in range(n):\n",
    "        spin_i = np.random.rand(3)\n",
    "        state.append(spin_i / np.linalg.norm(spin_i))\n",
    "    \n",
    "    return np.array(state)\n",
    "\n",
    "# Making a state wherin all the spins are along a certain z _dir\n",
    "def make_uniform_state(n=L, z_dir=1):\n",
    "    state = [] # states are numpy arrays of 3D vecotors (numpy arrays)\n",
    "    for i in range(n):\n",
    "        spin_i = [0, 0, z_dir]\n",
    "        state.append(spin_i)\n",
    "    \n",
    "    return np.array(state)\n",
    "\n",
    "# Make a state wherin the spins look like they are tumbling over each other \n",
    "# (most likley the pi/4 spiral will be most used becuase we know it to be an unstable stationary state)\n",
    "def make_spiral_state(n=L, spiral_angle=np.pi/4, phi=0):\n",
    "    state = [] # states are numpy arrays of 3D vecotors (numpy arrays)\n",
    "    for i in range(n):\n",
    "        spin_i = [0, np.cos(i * spiral_angle + phi), np.sin(i * spiral_angle + phi)]\n",
    "        state.append(spin_i)\n",
    "    \n",
    "    return np.array(state)"
   ]
  },
  {
   "cell_type": "markdown",
   "metadata": {},
   "source": [
    "# The equation of motion"
   ]
  },
  {
   "cell_type": "code",
   "execution_count": 33,
   "metadata": {},
   "outputs": [],
   "source": [
    "def S_dot(state):\n",
    "    dstate_dt = []\n",
    "    for i in range(len(state)):\n",
    "        prev_index = i-1\n",
    "        next_index = (i+1) % len(state) # This is assuming we are considering everything to be periodic\n",
    "        dstate_dt.append(np.cross(-(J * state[prev_index] + J * state[next_index]), state[i]))\n",
    "\n",
    "    return dstate_dt"
   ]
  },
  {
   "cell_type": "markdown",
   "metadata": {},
   "source": [
    "## Testing S_dot for pi/4 spin state"
   ]
  },
  {
   "cell_type": "code",
   "execution_count": 34,
   "metadata": {},
   "outputs": [
    {
     "name": "stdout",
     "output_type": "stream",
     "text": [
      "[array([-5.77315973e-15,  0.00000000e+00,  0.00000000e+00]), array([1.11022302e-16, 0.00000000e+00, 0.00000000e+00]), array([-2.44266968e-17,  0.00000000e+00,  0.00000000e+00]), array([-1.11022302e-16,  0.00000000e+00,  0.00000000e+00]), array([6.21689088e-17, 0.00000000e+00, 0.00000000e+00]), array([0., 0., 0.]), array([3.77422119e-17, 0.00000000e+00, 0.00000000e+00]), array([0., 0., 0.]), array([1.33155151e-17, 0.00000000e+00, 0.00000000e+00]), array([1.11022302e-16, 0.00000000e+00, 0.00000000e+00]), array([-5.66222694e-16,  0.00000000e+00,  0.00000000e+00]), array([1.11022302e-15, 0.00000000e+00, 0.00000000e+00]), array([7.54844239e-17, 0.00000000e+00, 0.00000000e+00]), array([-1.22124533e-15,  0.00000000e+00,  0.00000000e+00]), array([-5.99645754e-17,  0.00000000e+00,  0.00000000e+00]), array([1.22124533e-15, 0.00000000e+00, 0.00000000e+00]), array([2.66310302e-17, 0.00000000e+00, 0.00000000e+00]), array([-1.22124533e-15,  0.00000000e+00,  0.00000000e+00]), array([2.20433337e-18, 0.00000000e+00, 0.00000000e+00]), array([1.22124533e-15, 0.00000000e+00, 0.00000000e+00]), array([-2.22223635e-17,  0.00000000e+00,  0.00000000e+00]), array([-2.44249065e-15,  0.00000000e+00,  0.00000000e+00]), array([2.35447657e-15, 0.00000000e+00, 0.00000000e+00]), array([1.11022302e-16, 0.00000000e+00, 0.00000000e+00]), array([-7.10757571e-17,  0.00000000e+00,  0.00000000e+00]), array([0., 0., 0.]), array([-2.49662809e-15,  0.00000000e+00,  0.00000000e+00]), array([2.44249065e-15, 0.00000000e+00, 0.00000000e+00]), array([-8.90684836e-18,  0.00000000e+00,  0.00000000e+00]), array([-2.66453526e-15,  0.00000000e+00,  0.00000000e+00]), array([2.47881439e-15, 0.00000000e+00, 0.00000000e+00]), array([1.11022302e-16, 0.00000000e+00, 0.00000000e+00]), array([5.32620604e-17, 0.00000000e+00, 0.00000000e+00]), array([1.11022302e-16, 0.00000000e+00, 0.00000000e+00]), array([-2.59433487e-15,  0.00000000e+00,  0.00000000e+00]), array([2.44249065e-15, 0.00000000e+00, 0.00000000e+00]), array([4.40866675e-18, 0.00000000e+00, 0.00000000e+00]), array([-2.44249065e-15,  0.00000000e+00,  0.00000000e+00]), array([2.4921299e-15, 0.0000000e+00, 0.0000000e+00]), array([1.11022302e-16, 0.00000000e+00, 0.00000000e+00]), array([-2.48693538e-15,  0.00000000e+00,  0.00000000e+00]), array([4.99600361e-15, 0.00000000e+00, 0.00000000e+00]), array([-5.13453231e-15,  0.00000000e+00,  0.00000000e+00]), array([1.11022302e-16, 0.00000000e+00, 0.00000000e+00]), array([5.04202005e-15, 0.00000000e+00, 0.00000000e+00]), array([-4.99600361e-15,  0.00000000e+00,  0.00000000e+00]), array([4.94793607e-15, 0.00000000e+00, 0.00000000e+00]), array([-5.10702591e-15,  0.00000000e+00,  0.00000000e+00]), array([-3.11292118e-17,  0.00000000e+00,  0.00000000e+00]), array([4.99600361e-15, 0.00000000e+00, 0.00000000e+00]), array([-4.89917219e-15,  0.00000000e+00,  0.00000000e+00]), array([4.88498131e-15, 0.00000000e+00, 0.00000000e+00]), array([-4.99325617e-15, -0.00000000e+00,  0.00000000e+00]), array([1.11022302e-16, 0.00000000e+00, 0.00000000e+00]), array([5.07227389e-15, 0.00000000e+00, 0.00000000e+00]), array([-5.10702591e-15,  0.00000000e+00,  0.00000000e+00]), array([9.32086057e-17, 0.00000000e+00, 0.00000000e+00]), array([4.88498131e-15, 0.00000000e+00, 0.00000000e+00]), array([-4.99687898e-15,  0.00000000e+00,  0.00000000e+00]), array([1.11022302e-16, 0.00000000e+00, 0.00000000e+00]), array([4.95762878e-15, 0.00000000e+00, 0.00000000e+00]), array([-5.10702591e-15,  0.00000000e+00,  0.00000000e+00]), array([4.9745671e-15, 0.0000000e+00, 0.0000000e+00]), array([-4.99600361e-15,  0.00000000e+00,  0.00000000e+00]), array([-4.49818161e-18,  0.00000000e+00,  0.00000000e+00]), array([4.99600361e-15, 0.00000000e+00, 0.00000000e+00]), array([-4.98356347e-15,  0.00000000e+00,  0.00000000e+00]), array([5.10702591e-15, 0.00000000e+00, 0.00000000e+00]), array([-5.07764744e-15, -0.00000000e+00,  0.00000000e+00]), array([0., 0., 0.]), array([5.09890492e-15, 0.00000000e+00, 0.00000000e+00]), array([-4.99600361e-15,  0.00000000e+00,  0.00000000e+00]), array([-1.02204969e-16,  0.00000000e+00,  0.00000000e+00]), array([5.10702591e-15, 0.00000000e+00, 0.00000000e+00]), array([-5.08127025e-15,  0.00000000e+00,  0.00000000e+00]), array([1.11022302e-16, 0.00000000e+00, 0.00000000e+00]), array([4.98425981e-15, 0.00000000e+00, 0.00000000e+00]), array([-4.99600361e-15,  0.00000000e+00,  0.00000000e+00]), array([5.00119813e-15, 0.00000000e+00, 0.00000000e+00]), array([-5.10702591e-15,  0.00000000e+00,  0.00000000e+00]), array([2.21328486e-17, 0.00000000e+00, 0.00000000e+00]), array([0., 0., 0.]), array([1.00876629e-14, 0.00000000e+00, 0.00000000e+00]), array([-1.01030295e-14,  0.00000000e+00,  0.00000000e+00]), array([5.60095004e-17, 0.00000000e+00, 0.00000000e+00]), array([0., 0., 0.]), array([1.85100378e-17, 0.00000000e+00, 0.00000000e+00]), array([0., 0., 0.]), array([1.00840401e-14, 0.00000000e+00, 0.00000000e+00]), array([-9.99200722e-15,  0.00000000e+00,  0.00000000e+00]), array([5.23866896e-17, 0.00000000e+00, 0.00000000e+00]), array([-1.11022302e-16,  0.00000000e+00,  0.00000000e+00]), array([1.4887227e-17, 0.0000000e+00, 0.0000000e+00]), array([1.01030295e-14, 0.00000000e+00, 0.00000000e+00]), array([-9.90574388e-15,  0.00000000e+00, -0.00000000e+00]), array([0., 0., 0.]), array([4.87638788e-17, 0.00000000e+00, 0.00000000e+00]), array([-1.11022302e-16,  0.00000000e+00,  0.00000000e+00]), array([1.00032716e-14, 0.00000000e+00, 0.00000000e+00]), array([-9.88098492e-15,  0.00000000e+00,  0.00000000e+00]), array([-1.39404074e-16,  0.00000000e+00,  0.00000000e+00]), array([0., 0., 0.]), array([4.5141068e-17, 0.0000000e+00, 0.0000000e+00]), array([1.01030295e-14, 0.00000000e+00, 0.00000000e+00]), array([-1.00975346e-14,  0.00000000e+00,  0.00000000e+00]), array([0., 0., 0.]), array([-3.20045826e-17,  0.00000000e+00,  0.00000000e+00]), array([0., 0., 0.]), array([4.15182572e-17, 0.00000000e+00, 0.00000000e+00]), array([1.01030295e-14, 0.00000000e+00, 0.00000000e+00]), array([-1.01011575e-14,  0.00000000e+00, -0.00000000e+00]), array([1.11022302e-16, 0.00000000e+00, 0.00000000e+00]), array([7.5394909e-17, 0.0000000e+00, 0.0000000e+00]), array([-1.11022302e-16,  0.00000000e+00,  0.00000000e+00]), array([1.00299027e-14, 0.00000000e+00, 0.00000000e+00]), array([-9.99200722e-15,  0.00000000e+00,  0.00000000e+00]), array([-1.75074162e-18, -0.00000000e+00,  0.00000000e+00]), array([0., 0., 0.]), array([-3.92502042e-17,  0.00000000e+00,  0.00000000e+00]), array([7.54951657e-15, 0.00000000e+00, 0.00000000e+00])]\n"
     ]
    }
   ],
   "source": [
    "test_state = make_spiral_state(L)\n",
    "\n",
    "print(S_dot(test_state))"
   ]
  },
  {
   "cell_type": "code",
   "execution_count": null,
   "metadata": {},
   "outputs": [],
   "source": []
  },
  {
   "cell_type": "markdown",
   "metadata": {},
   "source": []
  }
 ],
 "metadata": {
  "kernelspec": {
   "display_name": "Python 3",
   "language": "python",
   "name": "python3"
  },
  "language_info": {
   "codemirror_mode": {
    "name": "ipython",
    "version": 3
   },
   "file_extension": ".py",
   "mimetype": "text/x-python",
   "name": "python",
   "nbconvert_exporter": "python",
   "pygments_lexer": "ipython3",
   "version": "3.11.4"
  }
 },
 "nbformat": 4,
 "nbformat_minor": 2
}
