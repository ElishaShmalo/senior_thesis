{
 "cells": [
  {
   "cell_type": "markdown",
   "metadata": {},
   "source": [
    "# In this file I attempt to build the basic framework for doing numerics on the Hyzenberg Spin Chain (without refrence to my professors work)\n",
    "- Im doing feromagnet bc its cooler"
   ]
  },
  {
   "cell_type": "markdown",
   "metadata": {},
   "source": [
    "# Imports"
   ]
  },
  {
   "cell_type": "code",
   "execution_count": null,
   "metadata": {},
   "outputs": [],
   "source": [
    "import numpy as np"
   ]
  },
  {
   "cell_type": "markdown",
   "metadata": {},
   "source": [
    "# General variables"
   ]
  },
  {
   "cell_type": "code",
   "execution_count": null,
   "metadata": {},
   "outputs": [],
   "source": [
    "N = 100 # number of spins\n",
    "J = 1 # energy factor"
   ]
  },
  {
   "cell_type": "markdown",
   "metadata": {},
   "source": [
    "# Defining the initial state"
   ]
  },
  {
   "cell_type": "code",
   "execution_count": null,
   "metadata": {},
   "outputs": [],
   "source": [
    "# Making a state wherein the initial spins are all in random directions\n",
    "def make_random_state(n=N):\n",
    "    state = [] # states are numpy arrays of 3D vecotors (numpy arrays)\n",
    "    for i in range(n):\n",
    "        spin_i = np.random.rand(3)\n",
    "        state.append(spin_i / np.linalg.norm(spin_i))\n",
    "    \n",
    "    return np.array(state)\n",
    "\n",
    "# Making a state wherin all the spins are along a certain z _dir\n",
    "def make_uniform_state(n=N, z_dir=1):\n",
    "    state = [] # states are numpy arrays of 3D vecotors (numpy arrays)\n",
    "    for i in range(n):\n",
    "        spin_i = [0, 0, z_dir]\n",
    "        state.append(spin_i)\n",
    "    \n",
    "    return np.array(state)\n",
    "\n",
    "# Make a state wherin the spins look like they are tumbling over each other \n",
    "# (most likley the pi/4 spiral will be most used becuase we know it to be an unstable, none moving, initial state)\n",
    "def make_spiral_state(n=N, spiral_angle=np.pi/4, phi=0):\n",
    "    state = [] # states are numpy arrays of 3D vecotors (numpy arrays)\n",
    "    for i in range(n):\n",
    "        spin_i = [0, np.sin(i * spiral_angle + phi), np.cos(i * spiral_angle + phi)]\n",
    "        state.append(spin_i)\n",
    "    \n",
    "    return np.array(state)"
   ]
  },
  {
   "cell_type": "markdown",
   "metadata": {},
   "source": [
    "# Making the Hamiltonian\n",
    "- In my notes I have the hamiltonian written explicitly, I will try to make a function to convey it propperley"
   ]
  },
  {
   "cell_type": "code",
   "execution_count": null,
   "metadata": {},
   "outputs": [],
   "source": [
    "def H(state):\n",
    "    # This returns the sum of the dot products of nieboring spins time -J (source: chatGPT)\n",
    "    return -J * np.sum(np.einsum('ij,ij->i', state[:-1], state[1:]))\n",
    "    "
   ]
  },
  {
   "cell_type": "code",
   "execution_count": null,
   "metadata": {},
   "outputs": [],
   "source": []
  },
  {
   "cell_type": "markdown",
   "metadata": {},
   "source": []
  }
 ],
 "metadata": {
  "kernelspec": {
   "display_name": "Python 3",
   "language": "python",
   "name": "python3"
  },
  "language_info": {
   "name": "python",
   "version": "3.11.4"
  }
 },
 "nbformat": 4,
 "nbformat_minor": 2
}
