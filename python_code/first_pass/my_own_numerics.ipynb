{
 "cells": [
  {
   "cell_type": "markdown",
   "metadata": {},
   "source": [
    "# In this file I attempt to build the basic framework for doing numerics on the Hyzenberg Spin Chain (without refrence to my professors work)\n",
    "- Im doing feromagnet bc its cooler"
   ]
  },
  {
   "cell_type": "markdown",
   "metadata": {},
   "source": [
    "# Imports"
   ]
  },
  {
   "cell_type": "code",
   "execution_count": 104,
   "metadata": {},
   "outputs": [],
   "source": [
    "import numpy as np\n",
    "\n",
    "# Plotting Imports\n",
    "import matplotlib.pyplot as plt\n",
    "import seaborn as sns"
   ]
  },
  {
   "cell_type": "code",
   "execution_count": 105,
   "metadata": {},
   "outputs": [],
   "source": [
    "# Set the dark background style\n",
    "sns.set_theme(style='darkgrid')"
   ]
  },
  {
   "cell_type": "markdown",
   "metadata": {},
   "source": [
    "# General variables"
   ]
  },
  {
   "cell_type": "code",
   "execution_count": 125,
   "metadata": {},
   "outputs": [],
   "source": [
    "L = 4 * 60 # number of spins \n",
    "#(note: if you are going to be working with a spiral with periodic boundy condtions, make sure L is st the spiral is maintained through the Lth --> 0th spin)\n",
    "\n",
    "J = 1 # energy factor\n",
    "\n",
    "J_vec = J * np.array([np.random.choice([-1, 1]), np.random.choice([-1, 1]), 1])\n",
    "\n",
    "# Timestep for evolution\n",
    "Tau_F = 1/J\n",
    "\n",
    "# Evolve until\n",
    "t = L"
   ]
  },
  {
   "cell_type": "markdown",
   "metadata": {},
   "source": [
    "# Defining the initial state"
   ]
  },
  {
   "cell_type": "code",
   "execution_count": 113,
   "metadata": {},
   "outputs": [],
   "source": [
    "# Making a state wherein the initial spins are all in random directions\n",
    "def make_random_state(n=L):\n",
    "    state = [] # states are numpy arrays of 3D vecotors (numpy arrays)\n",
    "    for i in range(n):\n",
    "        spin_i = np.random.rand(3)\n",
    "        state.append(spin_i / np.linalg.norm(spin_i))\n",
    "    \n",
    "    return np.array(state)\n",
    "\n",
    "# Making a state wherin all the spins are along a certain z _dir\n",
    "def make_uniform_state(n=L, z_dir=1):\n",
    "    state = [] # states are numpy arrays of 3D vecotors (numpy arrays)\n",
    "    for i in range(n):\n",
    "        spin_i = [0, 0, z_dir]\n",
    "        state.append(spin_i)\n",
    "    \n",
    "    return np.array(state)\n",
    "\n",
    "# Make a state wherin the spins look like they are tumbling over each other \n",
    "# (most likley the pi/4 spiral will be most used becuase we know it to be an unstable stationary state)\n",
    "def make_spiral_state(n=L, spiral_angle=np.pi/4, phi=0):\n",
    "    state = [] # states are numpy arrays of 3D vecotors (numpy arrays)\n",
    "    for i in range(n):\n",
    "        spin_i = [0, np.cos(i * spiral_angle + phi), np.sin(i * spiral_angle + phi)]\n",
    "        state.append(spin_i)\n",
    "    \n",
    "    return np.array(state)"
   ]
  },
  {
   "cell_type": "markdown",
   "metadata": {},
   "source": [
    "# The equation of motion"
   ]
  },
  {
   "cell_type": "code",
   "execution_count": 114,
   "metadata": {},
   "outputs": [],
   "source": [
    "def diffrential_s(state):\n",
    "    dstate_dt = []\n",
    "    for i in range(len(state)):\n",
    "        prev_index = i-1\n",
    "        next_index = (i+1) % len(state) # This is assuming we are considering everything to be periodic\n",
    "        dstate_dt.append(np.cross(-(J * state[prev_index] + J * state[next_index]), state[i]))\n",
    "\n",
    "    return np.array(dstate_dt)\n",
    "\n",
    "def evolve_diffrential(state, dstate_dt, dt):\n",
    "    return state + dstate_dt * dt"
   ]
  },
  {
   "cell_type": "code",
   "execution_count": 115,
   "metadata": {},
   "outputs": [
    {
     "name": "stdout",
     "output_type": "stream",
     "text": [
      "[[-1.34336986e-14  0.00000000e+00  0.00000000e+00]\n",
      " [ 1.11022302e-16  0.00000000e+00  0.00000000e+00]\n",
      " [-2.44266968e-17  0.00000000e+00  0.00000000e+00]\n",
      " [-1.11022302e-16  0.00000000e+00  0.00000000e+00]\n",
      " [ 6.21689088e-17  0.00000000e+00  0.00000000e+00]\n",
      " [ 0.00000000e+00  0.00000000e+00  0.00000000e+00]\n",
      " [ 3.77422119e-17  0.00000000e+00  0.00000000e+00]\n",
      " [ 0.00000000e+00  0.00000000e+00  0.00000000e+00]\n",
      " [ 1.33155151e-17  0.00000000e+00  0.00000000e+00]\n",
      " [ 1.11022302e-16  0.00000000e+00  0.00000000e+00]\n",
      " [-5.66222694e-16  0.00000000e+00  0.00000000e+00]\n",
      " [ 1.11022302e-15  0.00000000e+00  0.00000000e+00]\n",
      " [ 7.54844239e-17  0.00000000e+00  0.00000000e+00]\n",
      " [-1.22124533e-15  0.00000000e+00  0.00000000e+00]\n",
      " [-5.99645754e-17  0.00000000e+00  0.00000000e+00]\n",
      " [ 1.22124533e-15  0.00000000e+00  0.00000000e+00]\n",
      " [ 2.66310302e-17  0.00000000e+00  0.00000000e+00]\n",
      " [-1.22124533e-15  0.00000000e+00  0.00000000e+00]\n",
      " [ 2.20433337e-18  0.00000000e+00  0.00000000e+00]\n",
      " [ 1.22124533e-15  0.00000000e+00  0.00000000e+00]\n",
      " [-2.22223635e-17  0.00000000e+00  0.00000000e+00]\n",
      " [-2.44249065e-15  0.00000000e+00  0.00000000e+00]\n",
      " [ 2.35447657e-15  0.00000000e+00  0.00000000e+00]\n",
      " [ 1.11022302e-16  0.00000000e+00  0.00000000e+00]\n",
      " [-7.10757571e-17  0.00000000e+00  0.00000000e+00]\n",
      " [ 0.00000000e+00  0.00000000e+00  0.00000000e+00]\n",
      " [-2.49662809e-15  0.00000000e+00  0.00000000e+00]\n",
      " [ 2.44249065e-15  0.00000000e+00  0.00000000e+00]\n",
      " [-8.90684836e-18  0.00000000e+00  0.00000000e+00]\n",
      " [-2.66453526e-15  0.00000000e+00  0.00000000e+00]\n",
      " [ 2.47881439e-15  0.00000000e+00  0.00000000e+00]\n",
      " [ 1.11022302e-16  0.00000000e+00  0.00000000e+00]\n",
      " [ 5.32620604e-17  0.00000000e+00  0.00000000e+00]\n",
      " [ 1.11022302e-16  0.00000000e+00  0.00000000e+00]\n",
      " [-2.59433487e-15  0.00000000e+00  0.00000000e+00]\n",
      " [ 2.44249065e-15  0.00000000e+00  0.00000000e+00]\n",
      " [ 4.40866675e-18  0.00000000e+00  0.00000000e+00]\n",
      " [-2.44249065e-15  0.00000000e+00  0.00000000e+00]\n",
      " [ 2.49212990e-15  0.00000000e+00  0.00000000e+00]\n",
      " [ 1.11022302e-16  0.00000000e+00  0.00000000e+00]\n",
      " [-2.48693538e-15  0.00000000e+00  0.00000000e+00]\n",
      " [ 4.99600361e-15  0.00000000e+00  0.00000000e+00]\n",
      " [-5.13453231e-15  0.00000000e+00  0.00000000e+00]\n",
      " [ 1.11022302e-16  0.00000000e+00  0.00000000e+00]\n",
      " [ 5.04202005e-15  0.00000000e+00  0.00000000e+00]\n",
      " [-4.99600361e-15  0.00000000e+00  0.00000000e+00]\n",
      " [ 4.94793607e-15  0.00000000e+00  0.00000000e+00]\n",
      " [-5.10702591e-15  0.00000000e+00  0.00000000e+00]\n",
      " [-3.11292118e-17  0.00000000e+00  0.00000000e+00]\n",
      " [ 4.99600361e-15  0.00000000e+00  0.00000000e+00]\n",
      " [-4.89917219e-15  0.00000000e+00  0.00000000e+00]\n",
      " [ 4.88498131e-15  0.00000000e+00  0.00000000e+00]\n",
      " [-4.99325617e-15 -0.00000000e+00  0.00000000e+00]\n",
      " [ 1.11022302e-16  0.00000000e+00  0.00000000e+00]\n",
      " [ 5.07227389e-15  0.00000000e+00  0.00000000e+00]\n",
      " [-5.10702591e-15  0.00000000e+00  0.00000000e+00]\n",
      " [ 9.32086057e-17  0.00000000e+00  0.00000000e+00]\n",
      " [ 4.88498131e-15  0.00000000e+00  0.00000000e+00]\n",
      " [-4.99687898e-15  0.00000000e+00  0.00000000e+00]\n",
      " [ 1.11022302e-16  0.00000000e+00  0.00000000e+00]\n",
      " [ 4.95762878e-15  0.00000000e+00  0.00000000e+00]\n",
      " [-5.10702591e-15  0.00000000e+00  0.00000000e+00]\n",
      " [ 4.97456710e-15  0.00000000e+00  0.00000000e+00]\n",
      " [-4.99600361e-15  0.00000000e+00  0.00000000e+00]\n",
      " [-4.49818161e-18  0.00000000e+00  0.00000000e+00]\n",
      " [ 4.99600361e-15  0.00000000e+00  0.00000000e+00]\n",
      " [-4.98356347e-15  0.00000000e+00  0.00000000e+00]\n",
      " [ 5.10702591e-15  0.00000000e+00  0.00000000e+00]\n",
      " [-5.07764744e-15 -0.00000000e+00  0.00000000e+00]\n",
      " [ 0.00000000e+00  0.00000000e+00  0.00000000e+00]\n",
      " [ 5.09890492e-15  0.00000000e+00  0.00000000e+00]\n",
      " [-4.99600361e-15  0.00000000e+00  0.00000000e+00]\n",
      " [-1.02204969e-16  0.00000000e+00  0.00000000e+00]\n",
      " [ 5.10702591e-15  0.00000000e+00  0.00000000e+00]\n",
      " [-5.08127025e-15  0.00000000e+00  0.00000000e+00]\n",
      " [ 1.11022302e-16  0.00000000e+00  0.00000000e+00]\n",
      " [ 4.98425981e-15  0.00000000e+00  0.00000000e+00]\n",
      " [-4.99600361e-15  0.00000000e+00  0.00000000e+00]\n",
      " [ 5.00119813e-15  0.00000000e+00  0.00000000e+00]\n",
      " [-5.10702591e-15  0.00000000e+00  0.00000000e+00]\n",
      " [ 2.21328486e-17  0.00000000e+00  0.00000000e+00]\n",
      " [ 0.00000000e+00  0.00000000e+00  0.00000000e+00]\n",
      " [ 1.00876629e-14  0.00000000e+00  0.00000000e+00]\n",
      " [-1.01030295e-14  0.00000000e+00  0.00000000e+00]\n",
      " [ 5.60095004e-17  0.00000000e+00  0.00000000e+00]\n",
      " [ 0.00000000e+00  0.00000000e+00  0.00000000e+00]\n",
      " [ 1.85100378e-17  0.00000000e+00  0.00000000e+00]\n",
      " [ 0.00000000e+00  0.00000000e+00  0.00000000e+00]\n",
      " [ 1.00840401e-14  0.00000000e+00  0.00000000e+00]\n",
      " [-9.99200722e-15  0.00000000e+00  0.00000000e+00]\n",
      " [ 5.23866896e-17  0.00000000e+00  0.00000000e+00]\n",
      " [-1.11022302e-16  0.00000000e+00  0.00000000e+00]\n",
      " [ 1.48872270e-17  0.00000000e+00  0.00000000e+00]\n",
      " [ 1.01030295e-14  0.00000000e+00  0.00000000e+00]\n",
      " [-9.90574388e-15  0.00000000e+00 -0.00000000e+00]\n",
      " [ 0.00000000e+00  0.00000000e+00  0.00000000e+00]\n",
      " [ 4.87638788e-17  0.00000000e+00  0.00000000e+00]\n",
      " [-1.11022302e-16  0.00000000e+00  0.00000000e+00]\n",
      " [ 1.00032716e-14  0.00000000e+00  0.00000000e+00]\n",
      " [-9.88098492e-15  0.00000000e+00  0.00000000e+00]\n",
      " [-1.39404074e-16  0.00000000e+00  0.00000000e+00]\n",
      " [ 0.00000000e+00  0.00000000e+00  0.00000000e+00]\n",
      " [ 4.51410680e-17  0.00000000e+00  0.00000000e+00]\n",
      " [ 1.01030295e-14  0.00000000e+00  0.00000000e+00]\n",
      " [-1.00975346e-14  0.00000000e+00  0.00000000e+00]\n",
      " [ 0.00000000e+00  0.00000000e+00  0.00000000e+00]\n",
      " [-3.20045826e-17  0.00000000e+00  0.00000000e+00]\n",
      " [ 0.00000000e+00  0.00000000e+00  0.00000000e+00]\n",
      " [ 4.15182572e-17  0.00000000e+00  0.00000000e+00]\n",
      " [ 1.01030295e-14  0.00000000e+00  0.00000000e+00]\n",
      " [-1.01011575e-14  0.00000000e+00 -0.00000000e+00]\n",
      " [ 1.11022302e-16  0.00000000e+00  0.00000000e+00]\n",
      " [ 7.53949090e-17  0.00000000e+00  0.00000000e+00]\n",
      " [-1.11022302e-16  0.00000000e+00  0.00000000e+00]\n",
      " [ 1.00299027e-14  0.00000000e+00  0.00000000e+00]\n",
      " [-9.99200722e-15  0.00000000e+00  0.00000000e+00]\n",
      " [-1.75074162e-18 -0.00000000e+00  0.00000000e+00]\n",
      " [ 0.00000000e+00  0.00000000e+00  0.00000000e+00]\n",
      " [-3.92502042e-17  0.00000000e+00  0.00000000e+00]\n",
      " [-1.11022302e-16  0.00000000e+00  0.00000000e+00]\n",
      " [ 1.00262799e-14  0.00000000e+00  0.00000000e+00]\n",
      " [-1.01030295e-14  0.00000000e+00  0.00000000e+00]\n",
      " [-5.37355242e-18  0.00000000e+00  0.00000000e+00]\n",
      " [-1.11022302e-16  0.00000000e+00  0.00000000e+00]\n",
      " [ 6.81492874e-17  0.00000000e+00  0.00000000e+00]\n",
      " [ 9.88098492e-15  0.00000000e+00  0.00000000e+00]\n",
      " [-9.96350412e-15  0.00000000e+00 -0.00000000e+00]\n",
      " [ 0.00000000e+00  0.00000000e+00  0.00000000e+00]\n",
      " [ 1.02025939e-16  0.00000000e+00  0.00000000e+00]\n",
      " [-1.11022302e-16  0.00000000e+00  0.00000000e+00]\n",
      " [ 1.00565337e-14  0.00000000e+00  0.00000000e+00]\n",
      " [-9.99200722e-15  0.00000000e+00  0.00000000e+00]\n",
      " [ 1.35902591e-16  0.00000000e+00  0.00000000e+00]\n",
      " [-1.11022302e-16  0.00000000e+00  0.00000000e+00]\n",
      " [ 9.84031284e-17  0.00000000e+00  0.00000000e+00]\n",
      " [ 1.01030295e-14  0.00000000e+00  0.00000000e+00]\n",
      " [-1.01552949e-14  0.00000000e+00  0.00000000e+00]\n",
      " [ 0.00000000e+00  0.00000000e+00  0.00000000e+00]\n",
      " [-8.97648247e-17  0.00000000e+00  0.00000000e+00]\n",
      " [ 1.11022302e-16  0.00000000e+00  0.00000000e+00]\n",
      " [-1.27264287e-16  0.00000000e+00  0.00000000e+00]\n",
      " [ 1.01030295e-14  0.00000000e+00  0.00000000e+00]\n",
      " [-1.00478954e-14  0.00000000e+00 -0.00000000e+00]\n",
      " [ 0.00000000e+00  0.00000000e+00  0.00000000e+00]\n",
      " [-9.33876355e-17  0.00000000e+00  0.00000000e+00]\n",
      " [ 1.11022302e-16  0.00000000e+00  0.00000000e+00]\n",
      " [ 1.00831647e-14  0.00000000e+00  0.00000000e+00]\n",
      " [-9.99200722e-15  0.00000000e+00  0.00000000e+00]\n",
      " [-5.95109837e-17  0.00000000e+00  0.00000000e+00]\n",
      " [ 0.00000000e+00  0.00000000e+00  0.00000000e+00]\n",
      " [-9.70104463e-17  0.00000000e+00  0.00000000e+00]\n",
      " [ 1.11022302e-16  0.00000000e+00  0.00000000e+00]\n",
      " [ 1.00795419e-14  0.00000000e+00  0.00000000e+00]\n",
      " [-9.99200722e-15  0.00000000e+00  0.00000000e+00]\n",
      " [-6.31337945e-17  0.00000000e+00  0.00000000e+00]\n",
      " [ 0.00000000e+00  0.00000000e+00  0.00000000e+00]\n",
      " [ 1.03890454e-17  0.00000000e+00  0.00000000e+00]\n",
      " [ 1.01030295e-14  0.00000000e+00  0.00000000e+00]\n",
      " [-1.01322867e-14  0.00000000e+00 -0.00000000e+00]\n",
      " [ 1.11022302e-16  0.00000000e+00  0.00000000e+00]\n",
      " [-6.67566053e-17  0.00000000e+00  0.00000000e+00]\n",
      " [ 1.11022302e-16  0.00000000e+00  0.00000000e+00]\n",
      " [ 6.76623460e-18  0.00000000e+00  0.00000000e+00]\n",
      " [-1.11022302e-16  0.00000000e+00  0.00000000e+00]\n",
      " [ 8.02890745e-17  0.00000000e+00  0.00000000e+00]\n",
      " [ 2.00950367e-14  0.00000000e+00  0.00000000e+00]\n",
      " [-2.01675629e-14  0.00000000e+00 -0.00000000e+00]\n",
      " [ 1.11022302e-16  0.00000000e+00  0.00000000e+00]\n",
      " [ 9.96698365e-19  0.00000000e+00  0.00000000e+00]\n",
      " [ 1.11022302e-16  0.00000000e+00  0.00000000e+00]\n",
      " [ 7.45195382e-17  0.00000000e+00  0.00000000e+00]\n",
      " [-2.22044605e-16  0.00000000e+00  0.00000000e+00]\n",
      " [ 1.48042378e-16  0.00000000e+00  0.00000000e+00]\n",
      " [-1.11022302e-16  0.00000000e+00  0.00000000e+00]\n",
      " [-1.11501689e-16  0.00000000e+00  0.00000000e+00]\n",
      " [ 2.22044605e-16  0.00000000e+00  0.00000000e+00]\n",
      " [ 2.00570579e-14  0.00000000e+00  0.00000000e+00]\n",
      " [-2.00950367e-14  0.00000000e+00  0.00000000e+00]\n",
      " [-7.97717631e-17  0.00000000e+00  0.00000000e+00]\n",
      " [-1.11022302e-16  0.00000000e+00  0.00000000e+00]\n",
      " [-6.24892323e-18  0.00000000e+00  0.00000000e+00]\n",
      " [-1.11022302e-16  0.00000000e+00  0.00000000e+00]\n",
      " [-4.37483858e-17  0.00000000e+00  0.00000000e+00]\n",
      " [ 1.11022302e-16  0.00000000e+00  0.00000000e+00]\n",
      " [-8.12478484e-17  0.00000000e+00  0.00000000e+00]\n",
      " [ 0.00000000e+00  0.00000000e+00  0.00000000e+00]\n",
      " [ 2.00873117e-14  0.00000000e+00  0.00000000e+00]\n",
      " [-2.00950367e-14  0.00000000e+00  0.00000000e+00]\n",
      " [-4.95179221e-17  0.00000000e+00  0.00000000e+00]\n",
      " [ 0.00000000e+00  0.00000000e+00  0.00000000e+00]\n",
      " [ 2.40049178e-17  0.00000000e+00  0.00000000e+00]\n",
      " [ 1.11022302e-16  0.00000000e+00  0.00000000e+00]\n",
      " [-1.34945448e-17  0.00000000e+00  0.00000000e+00]\n",
      " [ 0.00000000e+00  0.00000000e+00  0.00000000e+00]\n",
      " [ 6.00282950e-17  0.00000000e+00  0.00000000e+00]\n",
      " [ 0.00000000e+00  0.00000000e+00  0.00000000e+00]\n",
      " [ 2.25288324e-17  0.00000000e+00  0.00000000e+00]\n",
      " [ 2.00950367e-14  0.00000000e+00  0.00000000e+00]\n",
      " [-2.01143008e-14  0.00000000e+00 -0.00000000e+00]\n",
      " [ 0.00000000e+00  0.00000000e+00  0.00000000e+00]\n",
      " [ 5.42587588e-17  0.00000000e+00  0.00000000e+00]\n",
      " [ 0.00000000e+00  0.00000000e+00  0.00000000e+00]\n",
      " [ 1.67592962e-17  0.00000000e+00  0.00000000e+00]\n",
      " [ 0.00000000e+00  0.00000000e+00  0.00000000e+00]\n",
      " [-2.07401664e-17  0.00000000e+00  0.00000000e+00]\n",
      " [ 1.11022302e-16  0.00000000e+00  0.00000000e+00]\n",
      " [ 5.27826734e-17  0.00000000e+00  0.00000000e+00]\n",
      " [ 1.99840144e-14  0.00000000e+00  0.00000000e+00]\n",
      " [-2.00840470e-14  0.00000000e+00  0.00000000e+00]\n",
      " [ 0.00000000e+00  0.00000000e+00  0.00000000e+00]\n",
      " [ 8.45125998e-17  0.00000000e+00  0.00000000e+00]\n",
      " [ 0.00000000e+00  0.00000000e+00  0.00000000e+00]\n",
      " [ 4.70131372e-17  0.00000000e+00  0.00000000e+00]\n",
      " [-1.11022302e-16  0.00000000e+00  0.00000000e+00]\n",
      " [ 9.51367459e-18  0.00000000e+00  0.00000000e+00]\n",
      " [ 0.00000000e+00  0.00000000e+00  0.00000000e+00]\n",
      " [-2.79857880e-17  0.00000000e+00  0.00000000e+00]\n",
      " [ 0.00000000e+00  0.00000000e+00  0.00000000e+00]\n",
      " [ 1.99185292e-14  0.00000000e+00  0.00000000e+00]\n",
      " [-1.99840144e-14  0.00000000e+00  0.00000000e+00]\n",
      " [-1.07278164e-16  0.00000000e+00  0.00000000e+00]\n",
      " [ 0.00000000e+00  0.00000000e+00  0.00000000e+00]\n",
      " [-3.37553243e-17  0.00000000e+00  0.00000000e+00]\n",
      " [ 0.00000000e+00  0.00000000e+00  0.00000000e+00]\n",
      " [ 3.97675156e-17  0.00000000e+00  0.00000000e+00]\n",
      " [ 0.00000000e+00  0.00000000e+00  0.00000000e+00]\n",
      " [ 2.26805299e-18  0.00000000e+00  0.00000000e+00]\n",
      " [ 0.00000000e+00  0.00000000e+00  0.00000000e+00]\n",
      " [-3.52314096e-17  0.00000000e+00  0.00000000e+00]\n",
      " [ 2.02060590e-14  0.00000000e+00  0.00000000e+00]\n",
      " [-2.00610388e-14  0.00000000e+00 -0.00000000e+00]\n",
      " [ 0.00000000e+00  0.00000000e+00  0.00000000e+00]\n",
      " [-3.50148324e-18  0.00000000e+00  0.00000000e+00]\n",
      " [ 0.00000000e+00  0.00000000e+00  0.00000000e+00]\n",
      " [-4.10009459e-17  0.00000000e+00  0.00000000e+00]\n",
      " [-1.11022302e-16  0.00000000e+00  0.00000000e+00]\n",
      " [ 3.25218940e-17  0.00000000e+00  0.00000000e+00]\n",
      " [-1.11022302e-16  0.00000000e+00  0.00000000e+00]\n",
      " [-4.97756861e-18  0.00000000e+00  0.00000000e+00]\n",
      " [ 1.53210777e-14  0.00000000e+00  0.00000000e+00]]\n"
     ]
    }
   ],
   "source": [
    "## Testing diffrential_s for pi/4 spin state\n",
    "s_naught = make_spiral_state(L)\n",
    "\n",
    "print(diffrential_s(s_naught))\n",
    "\n",
    "# Defining s_naught as a constant\n",
    "S_NAUGHT = make_spiral_state(L)"
   ]
  },
  {
   "cell_type": "markdown",
   "metadata": {},
   "source": [
    "# The push to s_naught"
   ]
  },
  {
   "cell_type": "code",
   "execution_count": 116,
   "metadata": {},
   "outputs": [],
   "source": [
    "def control_push(spin, a):\n",
    "    numerator = ((1-a) * S_NAUGHT) + (a*spin) # pushes S_j to S_NAUGHT\n",
    "    denominator = np.linalg.norm(((1-a) * S_NAUGHT) + (a*spin), axis=1, keepdims=True) # Keeps magnitude of S_j = 1\n",
    "    return numerator / denominator"
   ]
  },
  {
   "cell_type": "markdown",
   "metadata": {},
   "source": [
    "## Testing push"
   ]
  },
  {
   "cell_type": "code",
   "execution_count": 117,
   "metadata": {},
   "outputs": [
    {
     "name": "stdout",
     "output_type": "stream",
     "text": [
      "[0.02939695 0.82665609 0.56193908] 1.0\n",
      "[0. 1. 0.] 1.0\n"
     ]
    }
   ],
   "source": [
    "test_spin = make_random_state(L)\n",
    "\n",
    "print(test_spin[0], np.linalg.norm(test_spin[0]))\n",
    "controled_test = control_push(test_spin, 0)\n",
    "print(controled_test[0], np.linalg.norm(controled_test[0]))"
   ]
  },
  {
   "cell_type": "markdown",
   "metadata": {},
   "source": [
    "# The weighted diffrence function: S_diff"
   ]
  },
  {
   "cell_type": "code",
   "execution_count": 118,
   "metadata": {},
   "outputs": [],
   "source": [
    "def weighted_spin_diffrence(spin_chain, s_0):\n",
    "    delta_S = np.linalg.norm(spin_chain - s_0, axis=1) # scalar\n",
    "    return np.sum(delta_S) / np.size(delta_S)"
   ]
  },
  {
   "cell_type": "markdown",
   "metadata": {},
   "source": [
    "## Testing the weighted diffrence function"
   ]
  },
  {
   "cell_type": "code",
   "execution_count": 119,
   "metadata": {},
   "outputs": [
    {
     "name": "stdout",
     "output_type": "stream",
     "text": [
      "No control: 1.322308241335233\n",
      "Push of 1/2: 0.7475050992646698\n",
      "Push of 0: 3.925231146709438e-18\n"
     ]
    }
   ],
   "source": [
    "print(f\"No control: {weighted_spin_diffrence(test_spin, S_NAUGHT)}\")\n",
    "print(f\"Push of 1/2: {weighted_spin_diffrence(control_push(test_spin, 1/2), S_NAUGHT)}\")\n",
    "print(f\"Push of 0: {weighted_spin_diffrence(control_push(test_spin, 0), S_NAUGHT)}\")"
   ]
  },
  {
   "cell_type": "markdown",
   "metadata": {},
   "source": [
    "# First tests of dynamics"
   ]
  },
  {
   "cell_type": "code",
   "execution_count": 127,
   "metadata": {},
   "outputs": [],
   "source": [
    "a_vals = [0.6, 0.7, 0.716]\n",
    "\n",
    "original_random = make_random_state()\n",
    "\n",
    "\n",
    "\n",
    "S_diffs = {}\n",
    "\n",
    "for a_val in a_vals:\n",
    "    t = 0\n",
    "    current_S_diffs = []\n",
    "\n",
    "    current_S_diffs.append(weighted_spin_diffrence(original_random, S_NAUGHT))\n",
    "    \n",
    "    current_state = original_random.copy()\n",
    "    while t < L - 1:\n",
    "\n",
    "        diffrential = diffrential_s(current_state)\n",
    "\n",
    "        current_state = evolve_diffrential(current_state, diffrential, Tau_F)\n",
    "\n",
    "        current_state = control_push(current_state, a_val)\n",
    "\n",
    "        current_S_diffs.append(weighted_spin_diffrence(current_state, S_NAUGHT))\n",
    "\n",
    "        t += Tau_F\n",
    "    \n",
    "    S_diffs[a_val] = np.array(current_S_diffs)\n",
    "\n",
    "ts = np.array([i * Tau_F for i in range(len(S_diffs[a_val]))])"
   ]
  },
  {
   "cell_type": "code",
   "execution_count": 128,
   "metadata": {},
   "outputs": [
    {
     "data": {
      "text/plain": [
       "Text(0, 0.5, 'S_diff')"
      ]
     },
     "execution_count": 128,
     "metadata": {},
     "output_type": "execute_result"
    },
    {
     "data": {
      "image/png": "[encoded data removed]",
      "text/plain": [
       "<Figure size 640x480 with 1 Axes>"
      ]
     },
     "metadata": {},
     "output_type": "display_data"
    }
   ],
   "source": [
    "\n",
    "for a_val in a_vals:\n",
    "    plt.plot(ts, S_diffs[a_val], label=a_val)\n",
    "\n",
    "plt.legend()\n",
    "\n",
    "plt.xlabel(\"time\", fontsize=12)\n",
    "plt.ylabel(\"S_diff\", fontsize=12)"
   ]
  },
  {
   "cell_type": "markdown",
   "metadata": {},
   "source": []
  }
 ],
 "metadata": {
  "kernelspec": {
   "display_name": "Python 3",
   "language": "python",
   "name": "python3"
  },
  "language_info": {
   "codemirror_mode": {
    "name": "ipython",
    "version": 3
   },
   "file_extension": ".py",
   "mimetype": "text/x-python",
   "name": "python",
   "nbconvert_exporter": "python",
   "pygments_lexer": "ipython3",
   "version": "3.11.4"
  }
 },
 "nbformat": 4,
 "nbformat_minor": 2
}
