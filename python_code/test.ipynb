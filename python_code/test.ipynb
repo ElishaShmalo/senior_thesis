{
 "cells": [
  {
   "cell_type": "markdown",
   "metadata": {},
   "source": [
    "# This is just a file for me to test bits of code"
   ]
  },
  {
   "cell_type": "code",
   "execution_count": 9,
   "metadata": {},
   "outputs": [
    {
     "name": "stdout",
     "output_type": "stream",
     "text": [
      "[[  1   2   0]\n",
      " [  1   1   0]\n",
      " [  1   0 100]] [[  2   4   0]\n",
      " [  2   2   0]\n",
      " [  2   0 200]]\n"
     ]
    }
   ],
   "source": [
    "import numpy as np\n",
    "\n",
    "state = np.array([[1, 2, 0], [1, 1, 0], [1, 0, 100]])\n",
    "state2 = np.array([[1, 2, 0], [1, 1, 0], [1, 0, 100]]) * 2\n",
    "\n",
    "print(state, state2)"
   ]
  },
  {
   "cell_type": "code",
   "execution_count": 12,
   "metadata": {},
   "outputs": [
    {
     "name": "stdout",
     "output_type": "stream",
     "text": [
      "103.65528141487913\n"
     ]
    }
   ],
   "source": [
    "print(np.sum(np.linalg.norm(state, axis = 1)))"
   ]
  }
 ],
 "metadata": {
  "kernelspec": {
   "display_name": "Python 3",
   "language": "python",
   "name": "python3"
  },
  "language_info": {
   "codemirror_mode": {
    "name": "ipython",
    "version": 3
   },
   "file_extension": ".py",
   "mimetype": "text/x-python",
   "name": "python",
   "nbconvert_exporter": "python",
   "pygments_lexer": "ipython3",
   "version": "3.11.4"
  }
 },
 "nbformat": 4,
 "nbformat_minor": 2
}
