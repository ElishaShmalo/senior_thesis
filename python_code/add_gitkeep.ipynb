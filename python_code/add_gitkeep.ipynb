{
 "cells": [
  {
   "cell_type": "code",
   "execution_count": 1,
   "id": "e79134b0",
   "metadata": {},
   "outputs": [],
   "source": [
    "import os\n",
    "\n",
    "def add_gitkeep_to_empty_dirs(root='.'):\n",
    "    for dirpath, dirnames, filenames in os.walk(root, topdown=False):\n",
    "        # Ignore hidden folders like .git\n",
    "        if any(part.startswith('.') for part in dirpath.split(os.sep)):\n",
    "            continue\n",
    "\n",
    "        # If folder has no files and no subfolders (or only .gitkeep), it's empty\n",
    "        if not filenames and not dirnames:\n",
    "            gitkeep_path = os.path.join(dirpath, '.gitkeep')\n",
    "            open(gitkeep_path, 'a').close()\n",
    "            print(f'Added .gitkeep to: {dirpath}')\n",
    "        # If folder only has .gitkeep, treat as empty too\n",
    "        elif filenames == ['.gitkeep']:\n",
    "            continue\n",
    "        else:\n",
    "            continue\n",
    "\n",
    "if __name__ == '__main__':\n",
    "    add_gitkeep_to_empty_dirs()\n"
   ]
  }
 ],
 "metadata": {
  "kernelspec": {
   "display_name": "base",
   "language": "python",
   "name": "python3"
  },
  "language_info": {
   "codemirror_mode": {
    "name": "ipython",
    "version": 3
   },
   "file_extension": ".py",
   "mimetype": "text/x-python",
   "name": "python",
   "nbconvert_exporter": "python",
   "pygments_lexer": "ipython3",
   "version": "3.12.10"
  }
 },
 "nbformat": 4,
 "nbformat_minor": 5
}
