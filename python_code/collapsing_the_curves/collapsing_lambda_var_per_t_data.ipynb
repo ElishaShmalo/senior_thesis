{
 "cells": [
  {
   "cell_type": "code",
   "execution_count": null,
   "id": "cdc890f1",
   "metadata": {},
   "outputs": [],
   "source": [
    "import os\n",
    "import pandas as pd\n",
    "import numpy as np\n",
    "import re\n",
    "import matplotlib.pyplot as plt\n",
    "import math\n",
    "\n",
    "from DataCollapse import DataCollapse"
   ]
  },
  {
   "cell_type": "code",
   "execution_count": null,
   "id": "546a1e27",
   "metadata": {},
   "outputs": [],
   "source": [
    "num_unit_cell_vals = [8, 16, 32, 64]\n",
    "N_val = 4\n",
    "num_init_conds = 1000\n",
    "a_vals = [0.763]"
   ]
  },
  {
   "cell_type": "code",
   "execution_count": null,
   "id": "c666b472",
   "metadata": {},
   "outputs": [],
   "source": [
    "def load_decay_data(path):\n",
    "    \n",
    "    data_dict = {}\n",
    "\n",
    "    for L_val in [num_unit_cell_val * N_val for num_unit_cell_val in num_unit_cell_vals]:\n",
    "        fname = f\"lambda_var_per_t_N4_ar{str(min(a_vals)).replace(\".\", \"p\")}_{str(max(a_vals)).replace(\".\", \"p\")}_IC1000_L{int(L_val)}_AW{avraging_window_name}.csv\"\n",
    "        df = pd.read_csv(os.path.join(path, fname))\n",
    "\n",
    "        for _, row in df.iterrows():\n",
    "            a = row['a']\n",
    "            observations = row['observations']\n",
    "            data_dict[(a, L_val)] = np.array([observations for _ in range(0, 10)])\n",
    "\n",
    "    # build MultiIndex DataFrame\n",
    "    index = pd.MultiIndex.from_tuples(data_dict.keys(), names=['a','L'])\n",
    "    df = pd.DataFrame({'observations': list(data_dict.values())}, index=index)\n",
    "    return df\n",
    "\n",
    "decay_df = load_decay_data(f\"../../data_to_collapse/lambda_var_per_a/N{N_val}/SeveralAs/IC{num_init_conds}/SeveralLs/\").sort_index(level='a').rename_axis(index={'a': 'p'})"
   ]
  }
 ],
 "metadata": {
  "language_info": {
   "name": "python"
  }
 },
 "nbformat": 4,
 "nbformat_minor": 5
}
